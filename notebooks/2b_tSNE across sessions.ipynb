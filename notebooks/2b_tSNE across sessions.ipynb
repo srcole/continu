{
 "cells": [
  {
   "cell_type": "markdown",
   "metadata": {},
   "source": [
    "# Differentiate sessions"
   ]
  },
  {
   "cell_type": "code",
   "execution_count": 1,
   "metadata": {},
   "outputs": [
    {
     "name": "stderr",
     "output_type": "stream",
     "text": [
      "/Users/scott/anaconda/lib/python3.6/site-packages/lightgbm/__init__.py:46: UserWarning: Starting from version 2.2.1, the library file in distribution wheels for macOS is built by the Apple Clang (Xcode_9.4.1) compiler.\n",
      "This means that in case of installing LightGBM from PyPI via the ``pip install lightgbm`` command, you don't need to install the gcc compiler anymore.\n",
      "Instead of that, you need to install the OpenMP library, which is required for running LightGBM on the system with the Apple Clang compiler.\n",
      "You can install the OpenMP library by the following command: ``brew install libomp``.\n",
      "  \"You can install the OpenMP library by the following command: ``brew install libomp``.\", UserWarning)\n"
     ]
    }
   ],
   "source": [
    "import pandas as pd\n",
    "import numpy as np\n",
    "import json\n",
    "import pickle\n",
    "\n",
    "%matplotlib inline\n",
    "import matplotlib.pyplot as plt\n",
    "import seaborn as sns\n",
    "plt.style.use('../Cole.mplstyle')\n",
    "\n",
    "from collections import defaultdict\n",
    "from sklearn import svm\n",
    "from sklearn import metrics\n",
    "import lightgbm as lgb\n",
    "import glob\n",
    "from scipy.stats import zscore"
   ]
  },
  {
   "cell_type": "code",
   "execution_count": 2,
   "metadata": {},
   "outputs": [],
   "source": [
    "pd.options.display.max_rows=100"
   ]
  },
  {
   "cell_type": "markdown",
   "metadata": {},
   "source": [
    "# Load feature matrix"
   ]
  },
  {
   "cell_type": "code",
   "execution_count": 4,
   "metadata": {},
   "outputs": [],
   "source": [
    "df_feat = pd.read_csv('../processed_data/lgbm_v4_feat_matrix.csv', index_col=0)"
   ]
  },
  {
   "cell_type": "markdown",
   "metadata": {},
   "source": [
    "### Impute NaN"
   ]
  },
  {
   "cell_type": "code",
   "execution_count": 5,
   "metadata": {},
   "outputs": [],
   "source": [
    "# Get values to impute\n",
    "df_train_all = df_feat.copy()\n",
    "df_train_all.drop(['user', 'sess', 'task', 'trial'], inplace=True, axis=1)\n",
    "imputing_dict = dict(df_train_all.mean())\n",
    "\n",
    "# Impute\n",
    "for col in imputing_dict.keys():\n",
    "    df_feat[col].fillna(imputing_dict[col], inplace=True)"
   ]
  },
  {
   "cell_type": "markdown",
   "metadata": {},
   "source": [
    "### Normalize"
   ]
  },
  {
   "cell_type": "code",
   "execution_count": 10,
   "metadata": {},
   "outputs": [],
   "source": [
    "# Normalize features\n",
    "df_feat_norm = df_feat.apply(zscore)\n",
    "df_feat_norm[['user', 'sess', 'task', 'trial']] = df_feat[['user', 'sess', 'task', 'trial']]"
   ]
  },
  {
   "cell_type": "markdown",
   "metadata": {},
   "source": [
    "# tSNE"
   ]
  },
  {
   "cell_type": "code",
   "execution_count": 7,
   "metadata": {},
   "outputs": [],
   "source": [
    "\n",
    "from sklearn.manifold import TSNE\n",
    "from sklearn.decomposition import PCA"
   ]
  },
  {
   "cell_type": "code",
   "execution_count": 8,
   "metadata": {},
   "outputs": [
    {
     "name": "stdout",
     "output_type": "stream",
     "text": [
      "Explained variance: 0.8645974562283684\n"
     ]
    }
   ],
   "source": [
    "user_use = 3\n",
    "\n",
    "# Compute feat matrix\n",
    "df_temp = df_feat_norm[df_feat_norm['user'] == user_use]\n",
    "y = df_temp['sess'].values\n",
    "df_temp = df_temp.drop(['user', 'sess', 'task', 'trial'], axis=1)\n",
    "X = df_temp.values\n",
    "\n",
    "# Apply pca\n",
    "pca = PCA(n_components=100)\n",
    "pca.fit(X)\n",
    "X_pca = pca.transform(X)\n",
    "print('Explained variance:', sum(pca.explained_variance_ratio_))\n",
    "\n",
    "# Compute tsne\n",
    "tsne = TSNE(n_components=2, random_state=0)\n",
    "X_embedded = tsne.fit_transform(X_pca)"
   ]
  },
  {
   "cell_type": "code",
   "execution_count": 11,
   "metadata": {},
   "outputs": [
    {
     "data": {
      "text/plain": [
       "([], <a list of 0 Text yticklabel objects>)"
      ]
     },
     "execution_count": 11,
     "metadata": {},
     "output_type": "execute_result"
    },
    {
     "data": {
      "image/png": "[encoded data removed]",
      "text/plain": [
       "<Figure size 720x720 with 1 Axes>"
      ]
     },
     "metadata": {},
     "output_type": "display_data"
    }
   ],
   "source": [
    "# Visualize\n",
    "plt.figure(figsize=(10,10))\n",
    "for keyboard_i in np.unique(y):\n",
    "    idx_use = y == keyboard_i\n",
    "    plt.plot(X_embedded[idx_use, 0], X_embedded[idx_use, 1], '.', ms=15)\n",
    "plt.xlim((-150,150))\n",
    "plt.ylim((-150,150))\n",
    "plt.xticks([])\n",
    "plt.yticks([])"
   ]
  },
  {
   "cell_type": "code",
   "execution_count": null,
   "metadata": {},
   "outputs": [],
   "source": []
  }
 ],
 "metadata": {
  "kernelspec": {
   "display_name": "Python 3",
   "language": "python",
   "name": "python3"
  },
  "language_info": {
   "codemirror_mode": {
    "name": "ipython",
    "version": 3
   },
   "file_extension": ".py",
   "mimetype": "text/x-python",
   "name": "python",
   "nbconvert_exporter": "python",
   "pygments_lexer": "ipython3",
   "version": "3.6.4"
  }
 },
 "nbformat": 4,
 "nbformat_minor": 2
}
