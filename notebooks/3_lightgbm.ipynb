{
 "cells": [
  {
   "cell_type": "code",
   "execution_count": 1,
   "metadata": {},
   "outputs": [
    {
     "name": "stderr",
     "output_type": "stream",
     "text": [
      "/Users/scott/anaconda/lib/python3.6/site-packages/lightgbm/__init__.py:46: UserWarning: Starting from version 2.2.1, the library file in distribution wheels for macOS is built by the Apple Clang (Xcode_9.4.1) compiler.\n",
      "This means that in case of installing LightGBM from PyPI via the ``pip install lightgbm`` command, you don't need to install the gcc compiler anymore.\n",
      "Instead of that, you need to install the OpenMP library, which is required for running LightGBM on the system with the Apple Clang compiler.\n",
      "You can install the OpenMP library by the following command: ``brew install libomp``.\n",
      "  \"You can install the OpenMP library by the following command: ``brew install libomp``.\", UserWarning)\n"
     ]
    }
   ],
   "source": [
    "import pandas as pd\n",
    "import numpy as np\n",
    "import json\n",
    "import pickle\n",
    "\n",
    "%matplotlib inline\n",
    "import matplotlib.pyplot as plt\n",
    "import seaborn as sns\n",
    "plt.style.use('../Cole.mplstyle')\n",
    "\n",
    "from collections import defaultdict\n",
    "from sklearn import svm\n",
    "from sklearn import metrics\n",
    "from sklearn.calibration import calibration_curve\n",
    "from sklearn.metrics import precision_score, recall_score, precision_recall_curve, confusion_matrix\n",
    "\n",
    "import lightgbm as lgb"
   ]
  },
  {
   "cell_type": "markdown",
   "metadata": {},
   "source": [
    "# Format keystroke df"
   ]
  },
  {
   "cell_type": "code",
   "execution_count": 2,
   "metadata": {
    "scrolled": true
   },
   "outputs": [
    {
     "name": "stderr",
     "output_type": "stream",
     "text": [
      "/Users/scott/anaconda/lib/python3.6/site-packages/numpy/lib/arraysetops.py:522: FutureWarning: elementwise comparison failed; returning scalar instead, but in the future will perform elementwise comparison\n",
      "  mask |= (ar1 == a)\n"
     ]
    }
   ],
   "source": [
    "all_users = np.arange(1,76)\n",
    "all_sess = [0, 1, 2]\n",
    "all_tasks = [0, 1]\n",
    "\n",
    "N_char_trial = 100\n",
    "\n",
    "if True:\n",
    "    df_trials_all = pd.read_csv('../processed_data/trial_keystrokes.csv', index_col=0)\n",
    "else:\n",
    "    # Takes about 1 hour\n",
    "    \n",
    "    def find_up_time(row_i, row_key, df_ups, N_tries_max=4):\n",
    "        found_match=False\n",
    "        N_tries = 0\n",
    "        while found_match==False and N_tries < N_tries_max:\n",
    "            df_up_temp = df_ups.loc[row_i:]\n",
    "            if len(df_up_temp) >= (N_tries + 1):\n",
    "                idx_oi = df_up_temp.index[N_tries]\n",
    "                if df_ups.loc[idx_oi, 'key'] == row_key:\n",
    "                    return df_ups.loc[idx_oi, 'up_time']\n",
    "                N_tries += 1\n",
    "            else:\n",
    "                return np.nan\n",
    "        if found_match == False:\n",
    "            return np.nan\n",
    "    \n",
    "    df_trial_list = []\n",
    "    for user_i in all_users:\n",
    "        print(user_i)\n",
    "\n",
    "        for sess_i in all_sess:\n",
    "            for task_i in all_tasks:\n",
    "                # Determine paths to data\n",
    "                file_path = '../data_raw/ub/s{:d}/baseline/{:03d}{:d}0{:d}.txt'.format(\n",
    "                    sess_i, user_i, sess_i, task_i)\n",
    "\n",
    "                df = pd.read_csv(file_path, delimiter=' ',\n",
    "                         header=None, names=['key', 'event', 'time'])\n",
    "                df['time'] = df['time'] - df['time'][0]\n",
    "                df['time'] = df['time'].astype(float)\n",
    "\n",
    "                # Get key down and key up times\n",
    "                df_downs = df[df['event']=='KeyDown']\n",
    "                df_downs.rename(columns={'time': 'down_time'}, inplace=True)\n",
    "                df_downs.reset_index(inplace=True)\n",
    "                df_downs.rename(columns={'index': 'old_index'}, inplace=True)\n",
    "\n",
    "                df_ups = df[df['event']=='KeyUp']\n",
    "                df_ups.rename(columns={'time': 'up_time'}, inplace=True)\n",
    "\n",
    "                # Merge in up time\n",
    "                df_downs['up_time'] = df_downs.apply(lambda row: find_up_time(row['old_index'], row['key'], df_ups), axis=1)\n",
    "\n",
    "                # Compute dwell time\n",
    "                df_downs['dwell_time'] = df_downs['up_time'] - df_downs['down_time']\n",
    "\n",
    "                # Compute digraphs\n",
    "                df_downs['dg_time'] = df_downs['down_time'].diff()\n",
    "\n",
    "                # Compute trigraphs\n",
    "                df_downs['tg_time'] = df_downs['down_time'] - np.insert(df_downs['down_time'].values[:-2], [0,0], [np.nan,np.nan])\n",
    "\n",
    "                # Compute flight time\n",
    "                df_downs['prev_up_time'] = np.insert(df_downs['up_time'].values[:-1], 0, np.nan)\n",
    "                df_downs['flight_time'] = df_downs['down_time'] - df_downs['prev_up_time']\n",
    "\n",
    "                # Compute key pair and triplet for dg/tg\n",
    "                df_downs['key_prev'] = np.insert(df_downs['key'].values[:-1], 0, np.nan)\n",
    "                df_downs['key_2prev'] = np.insert(df_downs['key'].values[:-2], [0,0], [np.nan, np.nan])\n",
    "                df_downs['key_pair'] = df_downs['key_prev'] + '_' + df_downs['key']\n",
    "                df_downs['key_trip'] = df_downs['key_2prev'] + '_' + df_downs['key_pair']\n",
    "\n",
    "                # Remove unnecessary columns\n",
    "                df_downs = df_downs[['key', 'key_pair', 'key_trip',\n",
    "                                    'dg_time', 'tg_time',\n",
    "                                    'flight_time', 'dwell_time']].dropna().reset_index(drop=True)\n",
    "\n",
    "                # Split task into trials\n",
    "                trial_idx_bounds = list(df_downs[::100].index)\n",
    "                N_trials = len(trial_idx_bounds) - 1\n",
    "\n",
    "                for i_trial in range(N_trials):\n",
    "                    df_trial = df_downs.loc[trial_idx_bounds[i_trial]:trial_idx_bounds[i_trial+1]-1]\n",
    "\n",
    "                    # Clean feature matrix\n",
    "                    df_trial['user'] = user_i\n",
    "                    df_trial['sess'] = sess_i\n",
    "                    df_trial['task'] = task_i\n",
    "                    df_trial['trial'] = i_trial\n",
    "\n",
    "                    df_trial_list.append(df_trial)\n",
    "    df_trials_all = pd.concat(df_trial_list)\n",
    "    df_trials_all.to_csv('../processed_data/trial_keystrokes.csv')"
   ]
  },
  {
   "cell_type": "markdown",
   "metadata": {},
   "source": [
    "# Compute feature matrix"
   ]
  },
  {
   "cell_type": "markdown",
   "metadata": {},
   "source": [
    "### Dwell time"
   ]
  },
  {
   "cell_type": "code",
   "execution_count": 3,
   "metadata": {},
   "outputs": [],
   "source": [
    "# Determine feature space for dwell time (which keys)\n",
    "if True:\n",
    "    dwell_use = []\n",
    "    with open('../processed_data/dwell_keys_use.txt', 'r') as filehandle:  \n",
    "        for line in filehandle:\n",
    "            dwell_use.append(line[:-1])\n",
    "else:\n",
    "    # Key must occur at least X times for at least X users\n",
    "    min_dwell_per_user = 5\n",
    "    min_users_dwell = 50\n",
    "    df_dwell_temp = df_trials_all.groupby(['key', 'user'])['dwell_time'].count().reset_index()\n",
    "    df_dwell_temp['enough_N'] = df_dwell_temp['dwell_time'] >= min_dwell_per_user\n",
    "    df_dwell_temp = df_dwell_temp[df_dwell_temp['enough_N']]\n",
    "    dwell_counts = df_dwell_temp['key'].value_counts()\n",
    "    dwell_use = list(dwell_counts[dwell_counts >= min_users_dwell].index)\n",
    "\n",
    "    with open('../processed_data/dwell_keys_use.txt', 'w') as filehandle:  \n",
    "        for listitem in dwell_use:\n",
    "            filehandle.write('%s\\n' % listitem)\n",
    "        \n",
    "# Compute dwell time features for each trial\n",
    "df_dwell_feat = df_trials_all.groupby(['key', 'user', 'sess', 'task', 'trial'])['dwell_time'].median().reset_index()\n",
    "df_dwell_feat = df_dwell_feat[df_dwell_feat['key'].isin(dwell_use)]\n",
    "df_dwell_feat = df_dwell_feat.pivot_table(values='dwell_time', index=['user', 'sess', 'task', 'trial'], columns='key')\n",
    "df_dwell_feat.rename(columns=dict(zip(df_dwell_feat.columns, ['dwell_'+k for k in df_dwell_feat.columns])), inplace=True)\n",
    "df_dwell_feat.reset_index(inplace=True)"
   ]
  },
  {
   "cell_type": "markdown",
   "metadata": {},
   "source": [
    "### Digraph and flight time features"
   ]
  },
  {
   "cell_type": "code",
   "execution_count": 4,
   "metadata": {
    "scrolled": true
   },
   "outputs": [
    {
     "name": "stderr",
     "output_type": "stream",
     "text": [
      "/Users/scott/anaconda/lib/python3.6/site-packages/ipykernel_launcher.py:16: SettingWithCopyWarning: \n",
      "A value is trying to be set on a copy of a slice from a DataFrame.\n",
      "Try using .loc[row_indexer,col_indexer] = value instead\n",
      "\n",
      "See the caveats in the documentation: http://pandas.pydata.org/pandas-docs/stable/indexing.html#indexing-view-versus-copy\n",
      "  app.launch_new_instance()\n",
      "/Users/scott/anaconda/lib/python3.6/site-packages/ipykernel_launcher.py:17: SettingWithCopyWarning: \n",
      "A value is trying to be set on a copy of a slice from a DataFrame.\n",
      "Try using .loc[row_indexer,col_indexer] = value instead\n",
      "\n",
      "See the caveats in the documentation: http://pandas.pydata.org/pandas-docs/stable/indexing.html#indexing-view-versus-copy\n"
     ]
    }
   ],
   "source": [
    "### Sub-select digraphs\n",
    "### Remove digraphs that are outliers\n",
    "# These are saved for the digraphs that were present in at least 50 users\n",
    "\n",
    "# Load digraph cutoffs\n",
    "with open('../processed_data/dg_cutoffs.pkl', 'rb') as f:\n",
    "    dg_cutoffs = pickle.load(f)\n",
    "    \n",
    "# Remove digraphs not in the cutoff dict\n",
    "df_dg_temp = df_trials_all[df_trials_all['key_pair'].isin(dg_cutoffs.keys())]\n",
    "\n",
    "# Remove outlier keystrokes\n",
    "def compute_too_long(key_pair, t):\n",
    "    return t > dg_cutoffs[key_pair]\n",
    "\n",
    "df_dg_temp['cutoff'] = df_dg_temp['key_pair'].map(dg_cutoffs)\n",
    "df_dg_temp['too_long'] = df_dg_temp['cutoff'] < df_dg_temp['dg_time']\n",
    "df_dg_temp = df_dg_temp[~df_dg_temp['too_long']]\n",
    "df_dg_temp.drop(['too_long', 'cutoff'], axis=1, inplace=True)\n",
    "\n",
    "# Get feature matrix for digraphs and flight time\n",
    "df_dg_feat = df_dg_temp.pivot_table(\n",
    "    index=['user', 'sess', 'task', 'trial'],\n",
    "    columns='key_pair', values='dg_time', aggfunc='median')\n",
    "df_dg_feat.rename(columns=dict(zip(df_dg_feat.columns, ['digraph_'+k for k in df_dg_feat.columns])), inplace=True)\n",
    "df_dg_feat.reset_index(inplace=True)\n",
    "\n",
    "df_flight_feat = df_dg_temp.pivot_table(\n",
    "    index=['user', 'sess', 'task', 'trial'],\n",
    "    columns='key_pair', values='flight_time', aggfunc='median')\n",
    "df_flight_feat.rename(columns=dict(zip(df_flight_feat.columns, ['flight_'+k for k in df_flight_feat.columns])), inplace=True)\n",
    "df_flight_feat.reset_index(inplace=True)\n"
   ]
  },
  {
   "cell_type": "markdown",
   "metadata": {},
   "source": [
    "### Trigraph features"
   ]
  },
  {
   "cell_type": "code",
   "execution_count": 5,
   "metadata": {},
   "outputs": [],
   "source": [
    "if True:\n",
    "    trig_use = []\n",
    "    with open('../processed_data/trig_keys_use.txt', 'r') as filehandle:  \n",
    "        for line in filehandle:\n",
    "            trig_use.append(line[:-1])\n",
    "else:\n",
    "    # Key must occur at least X times for at least X users\n",
    "    min_trig_per_user = 10\n",
    "    min_users_trig = 50\n",
    "    df_trig_temp = df_trials_all.groupby(['key_trip', 'user'])['tg_time'].count().reset_index()\n",
    "    df_trig_temp['enough_N'] = df_trig_temp['tg_time'] >= min_trig_per_user\n",
    "    df_trig_temp = df_trig_temp[df_trig_temp['enough_N']]\n",
    "    trig_counts = df_trig_temp['key_trip'].value_counts()\n",
    "    trig_use = list(trig_counts[trig_counts >= min_users_trig].index)\n",
    "\n",
    "    with open('../processed_data/trig_keys_use.txt', 'w') as filehandle:  \n",
    "        for listitem in trig_use:\n",
    "            filehandle.write('%s\\n' % listitem)\n",
    "        \n",
    "# Compute trig time features for each trial\n",
    "df_trig_feat = df_trials_all.groupby(['key_trip', 'user', 'sess', 'task', 'trial'])['tg_time'].median().reset_index()\n",
    "df_trig_feat = df_trig_feat[df_trig_feat['key_trip'].isin(trig_use)]\n",
    "df_trig_feat = df_trig_feat.pivot_table(values='tg_time', index=['user', 'sess', 'task', 'trial'], columns='key_trip')\n",
    "df_trig_feat.rename(columns=dict(zip(df_trig_feat.columns, ['trigraph_'+k for k in df_trig_feat.columns])), inplace=True)\n",
    "df_trig_feat.reset_index(inplace=True)"
   ]
  },
  {
   "cell_type": "markdown",
   "metadata": {},
   "source": [
    "# Merge features into single feature matrix"
   ]
  },
  {
   "cell_type": "code",
   "execution_count": 6,
   "metadata": {},
   "outputs": [],
   "source": [
    "df_feat = df_flight_feat.merge(df_dg_feat, on=['user', 'sess', 'task', 'trial'])\n",
    "df_feat = df_feat.merge(df_trig_feat, on=['user', 'sess', 'task', 'trial'])\n",
    "df_feat = df_feat.merge(df_dwell_feat, on=['user', 'sess', 'task', 'trial'])"
   ]
  },
  {
   "cell_type": "code",
   "execution_count": 7,
   "metadata": {},
   "outputs": [],
   "source": [
    "# Save feat to file\n",
    "df_feat.to_csv('../processed_data/lgbm_v4_feat_matrix.csv')"
   ]
  },
  {
   "cell_type": "markdown",
   "metadata": {},
   "source": [
    "# LGBM for all users"
   ]
  },
  {
   "cell_type": "code",
   "execution_count": 11,
   "metadata": {
    "scrolled": true
   },
   "outputs": [
    {
     "name": "stderr",
     "output_type": "stream",
     "text": [
      "/Users/scott/anaconda/lib/python3.6/site-packages/ipykernel_launcher.py:16: FutureWarning: Method .as_matrix will be removed in a future version. Use .values instead.\n",
      "  app.launch_new_instance()\n",
      "/Users/scott/anaconda/lib/python3.6/site-packages/ipykernel_launcher.py:26: FutureWarning: Method .as_matrix will be removed in a future version. Use .values instead.\n",
      "/Users/scott/anaconda/lib/python3.6/site-packages/lightgbm/engine.py:113: UserWarning: Found `num_trees` in params. Will use it instead of argument\n",
      "  warnings.warn(\"Found `{}` in params. Will use it instead of argument\".format(alias))\n"
     ]
    },
    {
     "name": "stdout",
     "output_type": "stream",
     "text": [
      "User 1, AUC = 0.999, EER = 0.029\n",
      "User 2, AUC = 1.000, EER = 0.000\n",
      "User 3, AUC = 0.996, EER = 0.049\n",
      "User 4, AUC = 0.995, EER = 0.032\n",
      "User 5, AUC = 0.999, EER = 0.000\n",
      "User 6, AUC = 0.998, EER = 0.020\n",
      "User 7, AUC = 1.000, EER = 0.000\n",
      "User 8, AUC = 0.997, EER = 0.019\n",
      "User 9, AUC = 0.991, EER = 0.067\n",
      "User 10, AUC = 1.000, EER = 0.000\n",
      "User 11, AUC = 0.997, EER = 0.017\n",
      "User 12, AUC = 0.998, EER = 0.000\n",
      "User 13, AUC = 1.000, EER = 0.000\n",
      "User 14, AUC = 1.000, EER = 0.016\n",
      "User 15, AUC = 0.993, EER = 0.035\n",
      "User 16, AUC = 0.986, EER = 0.053\n",
      "User 17, AUC = 1.000, EER = 0.000\n",
      "User 18, AUC = 1.000, EER = 0.000\n",
      "User 19, AUC = 1.000, EER = 0.000\n",
      "User 20, AUC = 1.000, EER = 0.000\n",
      "User 21, AUC = 0.999, EER = 0.000\n",
      "User 22, AUC = 1.000, EER = 0.000\n",
      "User 23, AUC = 0.988, EER = 0.069\n",
      "User 24, AUC = 0.990, EER = 0.056\n",
      "User 25, AUC = 0.999, EER = 0.019\n",
      "User 26, AUC = 1.000, EER = 0.000\n",
      "User 27, AUC = 1.000, EER = 0.000\n",
      "User 28, AUC = 0.995, EER = 0.034\n",
      "User 29, AUC = 0.998, EER = 0.019\n",
      "User 30, AUC = 0.992, EER = 0.042\n",
      "User 31, AUC = 0.998, EER = 0.021\n",
      "User 32, AUC = 0.998, EER = 0.019\n",
      "User 33, AUC = 0.999, EER = 0.020\n",
      "User 34, AUC = 0.998, EER = 0.017\n",
      "User 35, AUC = 0.997, EER = 0.018\n",
      "User 36, AUC = 1.000, EER = 0.000\n",
      "User 37, AUC = 0.999, EER = 0.000\n",
      "User 38, AUC = 0.999, EER = 0.000\n",
      "User 39, AUC = 1.000, EER = 0.000\n",
      "User 40, AUC = 0.997, EER = 0.017\n",
      "User 41, AUC = 0.997, EER = 0.020\n",
      "User 42, AUC = 0.998, EER = 0.019\n",
      "User 43, AUC = 0.997, EER = 0.036\n",
      "User 44, AUC = 0.998, EER = 0.031\n",
      "User 45, AUC = 0.999, EER = 0.017\n",
      "User 46, AUC = 0.999, EER = 0.019\n",
      "User 47, AUC = 0.999, EER = 0.021\n",
      "User 48, AUC = 0.998, EER = 0.019\n",
      "User 49, AUC = 1.000, EER = 0.000\n",
      "User 50, AUC = 0.967, EER = 0.123\n",
      "User 51, AUC = 0.999, EER = 0.019\n",
      "User 52, AUC = 0.997, EER = 0.016\n",
      "User 53, AUC = 0.999, EER = 0.019\n",
      "User 54, AUC = 0.990, EER = 0.048\n",
      "User 55, AUC = 0.998, EER = 0.016\n",
      "User 56, AUC = 1.000, EER = 0.000\n",
      "User 57, AUC = 0.999, EER = 0.018\n",
      "User 58, AUC = 0.999, EER = 0.014\n",
      "User 59, AUC = 0.997, EER = 0.029\n",
      "User 60, AUC = 0.998, EER = 0.020\n",
      "User 61, AUC = 0.997, EER = 0.017\n",
      "User 62, AUC = 0.996, EER = 0.032\n",
      "User 63, AUC = 0.999, EER = 0.020\n",
      "User 64, AUC = 0.999, EER = 0.017\n",
      "User 65, AUC = 0.997, EER = 0.020\n",
      "User 66, AUC = 0.997, EER = 0.032\n",
      "User 67, AUC = 0.999, EER = 0.020\n",
      "User 68, AUC = 0.999, EER = 0.017\n",
      "User 69, AUC = 0.996, EER = 0.017\n",
      "User 70, AUC = 1.000, EER = 0.000\n",
      "User 71, AUC = 0.999, EER = 0.019\n",
      "User 72, AUC = 0.996, EER = 0.018\n",
      "User 73, AUC = 0.997, EER = 0.018\n",
      "User 74, AUC = 0.984, EER = 0.060\n",
      "User 75, AUC = 1.000, EER = 0.000\n"
     ]
    }
   ],
   "source": [
    "# Parameters for training\n",
    "param = {'num_leaves':4, 'max_bin': 4, 'num_trees':1000, 'objective':'binary',\n",
    "         'metric': 'auc'}\n",
    "\n",
    "# Create feature matrix\n",
    "df_feat_users = df_feat.drop(['user', 'sess', 'task', 'trial'], axis=1)\n",
    "col_names = list(df_feat_users.columns)\n",
    "    \n",
    "lgbm_eval_dict = defaultdict(list)\n",
    "lgbm_pred_dict = defaultdict(list)\n",
    "for user_i in all_users:\n",
    "    # Make training data\n",
    "    df_temp = df_feat[df_feat['sess'].isin([0,1])]\n",
    "    \n",
    "    train_label = np.array((df_temp['user']==user_i).values, dtype=int)\n",
    "    train_data_mat = df_temp.drop(['user', 'sess','task','trial'], axis=1).as_matrix()\n",
    "    train_data = lgb.Dataset(train_data_mat, label=train_label, feature_name=col_names)\n",
    "\n",
    "    # Make test data\n",
    "    df_temp = df_feat[df_feat['sess']==2]\n",
    "    test_user = df_temp['user'].values\n",
    "    test_sess = df_temp['sess'].values\n",
    "    test_task = df_temp['task'].values\n",
    "    test_trial = df_temp['trial'].values\n",
    "    test_label = np.array((df_temp['user']==user_i).values, dtype=int)\n",
    "    test_data_mat = df_temp.drop(['user', 'sess','task','trial'], axis=1).as_matrix()\n",
    "    test_data = lgb.Dataset(test_data_mat, label=test_label, feature_name=col_names)\n",
    "\n",
    "    # Train lgbm\n",
    "    bst = lgb.train(param, train_data)\n",
    "    bst.save_model('../models/v4/{:d}.txt'.format(user_i))\n",
    "\n",
    "    # Make predictions\n",
    "    ypred = bst.predict(test_data_mat)\n",
    "\n",
    "    # Compute AUC and EER\n",
    "    auc = metrics.roc_auc_score(test_label, ypred)\n",
    "    fpr, tpr, thresholds = metrics.roc_curve(test_label, ypred)\n",
    "    fnr = 1 - tpr\n",
    "    idx_eer = np.argmin(np.abs(fpr - fnr))\n",
    "    print('User {:d}, AUC = {:.3f}, EER = {:.3f}'.format(user_i, auc, fnr[idx_eer]))\n",
    "    \n",
    "    lgbm_eval_dict['user'].append(user_i)\n",
    "    lgbm_eval_dict['auc'].append(auc)\n",
    "    lgbm_eval_dict['eer'].append(fnr[idx_eer])\n",
    "    \n",
    "    for i_pred in range(len(ypred)):\n",
    "        lgbm_pred_dict['ypred'].append(ypred[i_pred])\n",
    "        lgbm_pred_dict['test_label'].append(test_label[i_pred])\n",
    "        lgbm_pred_dict['user'].append(user_i)\n",
    "        lgbm_pred_dict['real_user'].append(test_user[i_pred])\n",
    "        lgbm_pred_dict['sess'].append(test_sess[i_pred])\n",
    "        lgbm_pred_dict['task'].append(test_task[i_pred])\n",
    "        lgbm_pred_dict['trial'].append(test_trial[i_pred])\n",
    "        \n",
    "df_all = pd.DataFrame(lgbm_eval_dict)\n",
    "df_lgbm_pred = pd.DataFrame(lgbm_pred_dict)\n",
    "        "
   ]
  },
  {
   "cell_type": "markdown",
   "metadata": {},
   "source": [
    "### Especially distinct user"
   ]
  },
  {
   "cell_type": "code",
   "execution_count": 12,
   "metadata": {},
   "outputs": [
    {
     "data": {
      "text/plain": [
       "Text(0, 0.5, 'Fraction of trials\\n(100 characters)')"
      ]
     },
     "execution_count": 12,
     "metadata": {},
     "output_type": "execute_result"
    },
    {
     "data": {
      "image/png": "[encoded data removed]",
      "text/plain": [
       "<Figure size 576x288 with 1 Axes>"
      ]
     },
     "metadata": {
      "needs_background": "light"
     },
     "output_type": "display_data"
    }
   ],
   "source": [
    "ypred = df_lgbm_pred.loc[df_lgbm_pred['user']==18, 'ypred']\n",
    "ytrue = df_lgbm_pred.loc[df_lgbm_pred['user']==18, 'test_label']\n",
    "\n",
    "pred_true = ypred[ytrue==1]\n",
    "pred_false = ypred[ytrue==0]\n",
    "\n",
    "plt.figure(figsize=(8,4))\n",
    "plt.hist(pred_true, np.arange(0,1.01,.01), label='User 18',\n",
    "         weights=[1/len(pred_true)]*len(pred_true), alpha=.5)\n",
    "plt.hist(pred_false, np.arange(0,1.01,.01), label='Other users',\n",
    "         weights=[1/len(pred_false)]*len(pred_false), alpha=.5);\n",
    "plt.legend(fontsize=15)\n",
    "plt.xlabel('GBM predicted probability of User 18')\n",
    "plt.ylabel('Fraction of trials\\n(100 characters)')"
   ]
  },
  {
   "cell_type": "markdown",
   "metadata": {},
   "source": [
    "# Compute overall AUC and EER"
   ]
  },
  {
   "cell_type": "code",
   "execution_count": 13,
   "metadata": {},
   "outputs": [],
   "source": [
    "df_all = pd.DataFrame(lgbm_eval_dict)"
   ]
  },
  {
   "cell_type": "code",
   "execution_count": 14,
   "metadata": {},
   "outputs": [
    {
     "data": {
      "text/plain": [
       "Text(0, 0.5, '# Users')"
      ]
     },
     "execution_count": 14,
     "metadata": {},
     "output_type": "execute_result"
    },
    {
     "data": {
      "image/png": "[encoded data removed]",
      "text/plain": [
       "<Figure size 432x288 with 1 Axes>"
      ]
     },
     "metadata": {
      "needs_background": "light"
     },
     "output_type": "display_data"
    }
   ],
   "source": [
    "df_all['auc'].hist(bins=np.arange(0.9,1.005, .005))\n",
    "plt.xlabel('AUC')\n",
    "plt.ylabel('# Users')"
   ]
  },
  {
   "cell_type": "code",
   "execution_count": 15,
   "metadata": {},
   "outputs": [
    {
     "data": {
      "text/plain": [
       "Text(0, 0.5, '# Users')"
      ]
     },
     "execution_count": 15,
     "metadata": {},
     "output_type": "execute_result"
    },
    {
     "data": {
      "image/png": "[encoded data removed]",
      "text/plain": [
       "<Figure size 432x288 with 1 Axes>"
      ]
     },
     "metadata": {
      "needs_background": "light"
     },
     "output_type": "display_data"
    }
   ],
   "source": [
    "plt.figure(figsize=(6,4))\n",
    "plt.gca().set_axisbelow(True)\n",
    "df_all['eerpc'] = df_all['eer']*100\n",
    "df_all['eerpc'].hist(bins=np.arange(0,12, 1), color='.5', edgecolor='k', linewidth=2)\n",
    "plt.xticks(np.arange(0,11,2), ['{:d}%'.format(x) for x in np.arange(0,11,2)])\n",
    "plt.xlim((-.5,10.5))\n",
    "plt.xlabel('Equal Error Rate, Test set\\n(FPR = FNR)')\n",
    "plt.ylabel('# Users')\n"
   ]
  },
  {
   "cell_type": "markdown",
   "metadata": {},
   "source": [
    "### Averages across data points"
   ]
  },
  {
   "cell_type": "code",
   "execution_count": 16,
   "metadata": {
    "scrolled": true
   },
   "outputs": [
    {
     "name": "stdout",
     "output_type": "stream",
     "text": [
      "AUC = 0.998, EER = 0.024\n",
      "threshold = 0.00011\n"
     ]
    }
   ],
   "source": [
    "all_pred = df_lgbm_pred['ypred']\n",
    "all_label = df_lgbm_pred['test_label']\n",
    "\n",
    "# Compute AUC and EER\n",
    "auc = metrics.roc_auc_score(all_label, all_pred)\n",
    "fpr, tpr, thresholds_auc = metrics.roc_curve(all_label, all_pred)\n",
    "fnr = 1 - tpr\n",
    "idx_eer = np.argmin(np.abs(fpr - fnr))\n",
    "eer_thresh = thresholds_auc[idx_eer]\n",
    "print('AUC = {:.3f}, EER = {:.3f}'.format(auc, fnr[idx_eer]))\n",
    "print('threshold = {:.5f}'.format(thresholds_auc[idx_eer]))"
   ]
  },
  {
   "cell_type": "code",
   "execution_count": 17,
   "metadata": {},
   "outputs": [
    {
     "data": {
      "text/plain": [
       "(-0.02, 1.02)"
      ]
     },
     "execution_count": 17,
     "metadata": {},
     "output_type": "execute_result"
    },
    {
     "data": {
      "image/png": "[encoded data removed]",
      "text/plain": [
       "<Figure size 360x360 with 1 Axes>"
      ]
     },
     "metadata": {
      "needs_background": "light"
     },
     "output_type": "display_data"
    }
   ],
   "source": [
    "plt.figure(figsize=(5,5))\n",
    "plt.plot(fpr, tpr, 'k')\n",
    "plt.plot(fpr[idx_eer], tpr[idx_eer], 'r.', ms=20)\n",
    "plt.xlabel('False Positive Rate')\n",
    "plt.ylabel('True Positive Rate')\n",
    "plt.xlim(-.02, 1.02)\n",
    "plt.ylim(-.02, 1.02)"
   ]
  },
  {
   "cell_type": "markdown",
   "metadata": {},
   "source": [
    "### Averages across users"
   ]
  },
  {
   "cell_type": "code",
   "execution_count": 18,
   "metadata": {},
   "outputs": [
    {
     "name": "stdout",
     "output_type": "stream",
     "text": [
      "Mean AUC = 0.997, EER = 0.020\n",
      "Median AUC = 0.998, EER = 0.018\n"
     ]
    }
   ],
   "source": [
    "print('Mean AUC = {:.3f}, EER = {:.3f}'.format(df_all['auc'].mean(), df_all['eer'].mean()))\n",
    "print('Median AUC = {:.3f}, EER = {:.3f}'.format(df_all['auc'].median(), df_all['eer'].median()))"
   ]
  },
  {
   "cell_type": "markdown",
   "metadata": {},
   "source": [
    "# Probability calibration and threshold from Validation\n",
    "* Obtained from validation notebook"
   ]
  },
  {
   "cell_type": "code",
   "execution_count": 19,
   "metadata": {},
   "outputs": [],
   "source": [
    "# Need to recompute probability calibration\n",
    "old_pred_samp_valid = np.array([1.89497064e-05, 1.50911086e-03, 3.38746918e-03, 6.98252100e-03,\n",
    "       1.51188199e-02, 3.30878871e-02, 7.00502972e-02, 1.52832984e-01,\n",
    "       3.32861811e-01, 9.37748610e-01, 1.00000000e+00])\n",
    "new_pred_samp_valid = np.array([0.06924164, 0.92424242, 0.9047619 , 0.94186047, 0.97142857,\n",
    "       0.98305085, 0.99342105, 0.9875    , 1.        , 0.99816244,\n",
    "       1.        ])\n",
    "valid_thresh = 0.07012\n",
    "\n",
    "df_lgbm_pred['ypred_valid'] = np.interp(df_lgbm_pred['ypred'].values,\n",
    "                            old_pred_samp_valid, new_pred_samp_valid)\n",
    "df_lgbm_pred['ypredclass_valid'] = df_lgbm_pred['ypred_valid'] > valid_thresh\n"
   ]
  },
  {
   "cell_type": "code",
   "execution_count": 20,
   "metadata": {},
   "outputs": [],
   "source": [
    "all_pred_valid = df_lgbm_pred['ypred_valid']\n",
    "all_predclass_valid = df_lgbm_pred['ypredclass_valid']"
   ]
  },
  {
   "cell_type": "markdown",
   "metadata": {},
   "source": [
    "### Get valid eer thresh"
   ]
  },
  {
   "cell_type": "code",
   "execution_count": 21,
   "metadata": {},
   "outputs": [
    {
     "name": "stdout",
     "output_type": "stream",
     "text": [
      "AUC = 0.993, EER = 0.024\n",
      "threshold = 0.12069\n"
     ]
    }
   ],
   "source": [
    "# Compute AUC and EER\n",
    "auc = metrics.roc_auc_score(all_label, all_pred_valid)\n",
    "fpr, tpr, thresholds_auc = metrics.roc_curve(all_label, all_pred_valid)\n",
    "fnr = 1 - tpr\n",
    "idx_eer = np.argmin(np.abs(fpr - fnr))\n",
    "eer_thresh_valid = thresholds_auc[idx_eer]\n",
    "print('AUC = {:.3f}, EER = {:.3f}'.format(auc, fnr[idx_eer]))\n",
    "print('threshold = {:.5f}'.format(eer_thresh_valid))"
   ]
  },
  {
   "cell_type": "code",
   "execution_count": 22,
   "metadata": {},
   "outputs": [],
   "source": [
    "# Save to file\n",
    "df_lgbm_pred.to_csv('../processed_data/lgbm_v4_predictions.csv')"
   ]
  },
  {
   "cell_type": "markdown",
   "metadata": {},
   "source": [
    "# Feature importance"
   ]
  },
  {
   "cell_type": "code",
   "execution_count": 23,
   "metadata": {},
   "outputs": [],
   "source": [
    "feature_import_dict = {}\n",
    "feature_import_dict['feature'] = col_names\n",
    "importance_type = 'split' # or 'gain' about the same\n",
    "for user_i in all_users:\n",
    "    bst = lgb.Booster(model_file='../models/v4/{:d}.txt'.format(user_i))\n",
    "    feature_import_dict[user_i] = bst.feature_importance(importance_type=importance_type)\n",
    "df_feat_import = pd.DataFrame(feature_import_dict).set_index('feature').T"
   ]
  },
  {
   "cell_type": "code",
   "execution_count": 24,
   "metadata": {},
   "outputs": [],
   "source": [
    "avg_feat_imp = df_feat_import.mean().sort_values(ascending=False)\n",
    "df_feat_imp = pd.DataFrame(avg_feat_imp).rename(columns={0:'importance (%)'})\n",
    "df_feat_imp['importance (%)'] = df_feat_imp['importance (%)'] / (np.sum(df_feat_imp['importance (%)']/100))"
   ]
  },
  {
   "cell_type": "code",
   "execution_count": 25,
   "metadata": {},
   "outputs": [
    {
     "data": {
      "text/html": [
       "<style  type=\"text/css\" >\n",
       "    #T_4d5019e2_299a_11e9_9776_6a0002f649d0 th {\n",
       "          font-size: 200%;\n",
       "          text-align: center;\n",
       "    }    #T_4d5019e2_299a_11e9_9776_6a0002f649d0 td {\n",
       "          font-size: 200%;\n",
       "          text-align: center;\n",
       "    }</style>  \n",
       "<table id=\"T_4d5019e2_299a_11e9_9776_6a0002f649d0\" > \n",
       "<thead>    <tr> \n",
       "        <th class=\"blank level0\" ></th> \n",
       "        <th class=\"col_heading level0 col0\" >importance (%)</th> \n",
       "    </tr>    <tr> \n",
       "        <th class=\"index_name level0\" >feature</th> \n",
       "        <th class=\"blank\" ></th> \n",
       "    </tr></thead> \n",
       "<tbody>    <tr> \n",
       "        <th id=\"T_4d5019e2_299a_11e9_9776_6a0002f649d0level0_row0\" class=\"row_heading level0 row0\" >dwell_LShiftKey</th> \n",
       "        <td id=\"T_4d5019e2_299a_11e9_9776_6a0002f649d0row0_col0\" class=\"data row0 col0\" >1.6</td> \n",
       "    </tr>    <tr> \n",
       "        <th id=\"T_4d5019e2_299a_11e9_9776_6a0002f649d0level0_row1\" class=\"row_heading level0 row1\" >dwell_Space</th> \n",
       "        <td id=\"T_4d5019e2_299a_11e9_9776_6a0002f649d0row1_col0\" class=\"data row1 col0\" >1.4</td> \n",
       "    </tr>    <tr> \n",
       "        <th id=\"T_4d5019e2_299a_11e9_9776_6a0002f649d0level0_row2\" class=\"row_heading level0 row2\" >dwell_RShiftKey</th> \n",
       "        <td id=\"T_4d5019e2_299a_11e9_9776_6a0002f649d0row2_col0\" class=\"data row2 col0\" >1.1</td> \n",
       "    </tr>    <tr> \n",
       "        <th id=\"T_4d5019e2_299a_11e9_9776_6a0002f649d0level0_row3\" class=\"row_heading level0 row3\" >flight_I_N</th> \n",
       "        <td id=\"T_4d5019e2_299a_11e9_9776_6a0002f649d0row3_col0\" class=\"data row3 col0\" >1</td> \n",
       "    </tr>    <tr> \n",
       "        <th id=\"T_4d5019e2_299a_11e9_9776_6a0002f649d0level0_row4\" class=\"row_heading level0 row4\" >flight_O_U</th> \n",
       "        <td id=\"T_4d5019e2_299a_11e9_9776_6a0002f649d0row4_col0\" class=\"data row4 col0\" >1</td> \n",
       "    </tr>    <tr> \n",
       "        <th id=\"T_4d5019e2_299a_11e9_9776_6a0002f649d0level0_row5\" class=\"row_heading level0 row5\" >dwell_A</th> \n",
       "        <td id=\"T_4d5019e2_299a_11e9_9776_6a0002f649d0row5_col0\" class=\"data row5 col0\" >0.9</td> \n",
       "    </tr>    <tr> \n",
       "        <th id=\"T_4d5019e2_299a_11e9_9776_6a0002f649d0level0_row6\" class=\"row_heading level0 row6\" >flight_T_H</th> \n",
       "        <td id=\"T_4d5019e2_299a_11e9_9776_6a0002f649d0row6_col0\" class=\"data row6 col0\" >0.9</td> \n",
       "    </tr>    <tr> \n",
       "        <th id=\"T_4d5019e2_299a_11e9_9776_6a0002f649d0level0_row7\" class=\"row_heading level0 row7\" >dwell_Back</th> \n",
       "        <td id=\"T_4d5019e2_299a_11e9_9776_6a0002f649d0row7_col0\" class=\"data row7 col0\" >0.7</td> \n",
       "    </tr>    <tr> \n",
       "        <th id=\"T_4d5019e2_299a_11e9_9776_6a0002f649d0level0_row8\" class=\"row_heading level0 row8\" >digraph_O_U</th> \n",
       "        <td id=\"T_4d5019e2_299a_11e9_9776_6a0002f649d0row8_col0\" class=\"data row8 col0\" >0.7</td> \n",
       "    </tr>    <tr> \n",
       "        <th id=\"T_4d5019e2_299a_11e9_9776_6a0002f649d0level0_row9\" class=\"row_heading level0 row9\" >dwell_T</th> \n",
       "        <td id=\"T_4d5019e2_299a_11e9_9776_6a0002f649d0row9_col0\" class=\"data row9 col0\" >0.7</td> \n",
       "    </tr></tbody> \n",
       "</table> "
      ],
      "text/plain": [
       "<pandas.io.formats.style.Styler at 0x126239588>"
      ]
     },
     "execution_count": 25,
     "metadata": {},
     "output_type": "execute_result"
    }
   ],
   "source": [
    "styles = [\n",
    "    dict(selector='th', props=[('font-size', '200%'),\n",
    "                               ('text-align', 'center')]),\n",
    "    dict(selector='td', props=[('font-size', '200%'),\n",
    "                               ('text-align', 'center')])\n",
    "]\n",
    "df_feat_imp.head(10).round(1).style.set_table_styles(styles)"
   ]
  },
  {
   "cell_type": "code",
   "execution_count": 26,
   "metadata": {},
   "outputs": [
    {
     "data": {
      "text/html": [
       "<style  type=\"text/css\" >\n",
       "    #T_4d552570_299a_11e9_8c8d_6a0002f649d0 th {\n",
       "          font-size: 200%;\n",
       "          text-align: center;\n",
       "    }    #T_4d552570_299a_11e9_8c8d_6a0002f649d0 td {\n",
       "          font-size: 200%;\n",
       "          text-align: center;\n",
       "    }</style>  \n",
       "<table id=\"T_4d552570_299a_11e9_8c8d_6a0002f649d0\" > \n",
       "<thead>    <tr> \n",
       "        <th class=\"blank level0\" ></th> \n",
       "        <th class=\"col_heading level0 col0\" >importance (%)</th> \n",
       "    </tr>    <tr> \n",
       "        <th class=\"index_name level0\" >feature</th> \n",
       "        <th class=\"blank\" ></th> \n",
       "    </tr></thead> \n",
       "<tbody>    <tr> \n",
       "        <th id=\"T_4d552570_299a_11e9_8c8d_6a0002f649d0level0_row0\" class=\"row_heading level0 row0\" >flight_R_D</th> \n",
       "        <td id=\"T_4d552570_299a_11e9_8c8d_6a0002f649d0row0_col0\" class=\"data row0 col0\" >0.0014</td> \n",
       "    </tr>    <tr> \n",
       "        <th id=\"T_4d552570_299a_11e9_8c8d_6a0002f649d0level0_row1\" class=\"row_heading level0 row1\" >flight_Space_U</th> \n",
       "        <td id=\"T_4d552570_299a_11e9_8c8d_6a0002f649d0row1_col0\" class=\"data row1 col0\" >0.0009</td> \n",
       "    </tr>    <tr> \n",
       "        <th id=\"T_4d552570_299a_11e9_8c8d_6a0002f649d0level0_row2\" class=\"row_heading level0 row2\" >flight_Z_E</th> \n",
       "        <td id=\"T_4d552570_299a_11e9_8c8d_6a0002f649d0row2_col0\" class=\"data row2 col0\" >0.0005</td> \n",
       "    </tr>    <tr> \n",
       "        <th id=\"T_4d552570_299a_11e9_8c8d_6a0002f649d0level0_row3\" class=\"row_heading level0 row3\" >digraph_B_S</th> \n",
       "        <td id=\"T_4d552570_299a_11e9_8c8d_6a0002f649d0row3_col0\" class=\"data row3 col0\" >0.0005</td> \n",
       "    </tr>    <tr> \n",
       "        <th id=\"T_4d552570_299a_11e9_8c8d_6a0002f649d0level0_row4\" class=\"row_heading level0 row4\" >flight_B_S</th> \n",
       "        <td id=\"T_4d552570_299a_11e9_8c8d_6a0002f649d0row4_col0\" class=\"data row4 col0\" >0.0005</td> \n",
       "    </tr>    <tr> \n",
       "        <th id=\"T_4d552570_299a_11e9_8c8d_6a0002f649d0level0_row5\" class=\"row_heading level0 row5\" >digraph_L_P</th> \n",
       "        <td id=\"T_4d552570_299a_11e9_8c8d_6a0002f649d0row5_col0\" class=\"data row5 col0\" >0</td> \n",
       "    </tr>    <tr> \n",
       "        <th id=\"T_4d552570_299a_11e9_8c8d_6a0002f649d0level0_row6\" class=\"row_heading level0 row6\" >flight_Y_S</th> \n",
       "        <td id=\"T_4d552570_299a_11e9_8c8d_6a0002f649d0row6_col0\" class=\"data row6 col0\" >0</td> \n",
       "    </tr>    <tr> \n",
       "        <th id=\"T_4d552570_299a_11e9_8c8d_6a0002f649d0level0_row7\" class=\"row_heading level0 row7\" >digraph_S_N</th> \n",
       "        <td id=\"T_4d552570_299a_11e9_8c8d_6a0002f649d0row7_col0\" class=\"data row7 col0\" >0</td> \n",
       "    </tr>    <tr> \n",
       "        <th id=\"T_4d552570_299a_11e9_8c8d_6a0002f649d0level0_row8\" class=\"row_heading level0 row8\" >flight_V_O</th> \n",
       "        <td id=\"T_4d552570_299a_11e9_8c8d_6a0002f649d0row8_col0\" class=\"data row8 col0\" >0</td> \n",
       "    </tr>    <tr> \n",
       "        <th id=\"T_4d552570_299a_11e9_8c8d_6a0002f649d0level0_row9\" class=\"row_heading level0 row9\" >digraph_Y_S</th> \n",
       "        <td id=\"T_4d552570_299a_11e9_8c8d_6a0002f649d0row9_col0\" class=\"data row9 col0\" >0</td> \n",
       "    </tr></tbody> \n",
       "</table> "
      ],
      "text/plain": [
       "<pandas.io.formats.style.Styler at 0x126228470>"
      ]
     },
     "execution_count": 26,
     "metadata": {},
     "output_type": "execute_result"
    }
   ],
   "source": [
    "df_feat_imp.tail(10).round(4).style.set_table_styles(styles)"
   ]
  }
 ],
 "metadata": {
  "kernelspec": {
   "display_name": "Python 3",
   "language": "python",
   "name": "python3"
  },
  "language_info": {
   "codemirror_mode": {
    "name": "ipython",
    "version": 3
   },
   "file_extension": ".py",
   "mimetype": "text/x-python",
   "name": "python",
   "nbconvert_exporter": "python",
   "pygments_lexer": "ipython3",
   "version": "3.6.4"
  }
 },
 "nbformat": 4,
 "nbformat_minor": 2
}
